{
 "cells": [
  {
   "cell_type": "raw",
   "metadata": {
    "collapsed": false
   },
   "source": [
    "In the project, the majority of tasks will undergo script testing, with only a few being reviewed by the TA. Be aware that this testing material is not final and cannot cover all testing scenarios. If you are caught cheating during testing, the whole group will receive a score of 0 for the project."
   ]
  },
  {
   "cell_type": "raw",
   "metadata": {
    "collapsed": false
   },
   "source": [
    "The script checks using the requests library in Python. Before testing, ensure that the server has three users with the usernames \"client1\", \"client2\", and \"client3\", and the passwords \"123\". In the upcoming tests, if the Authorization field is needed, use \"client1\" and \"123\" as both the username and password."
   ]
  },
  {
   "cell_type": "code",
   "execution_count": 2,
   "metadata": {
    "ExecuteTime": {
     "end_time": "2023-11-20T12:25:19.957195500Z",
     "start_time": "2023-11-20T12:25:19.943241800Z"
    },
    "collapsed": false
   },
   "outputs": [],
   "source": [
    "import requests"
   ]
  },
  {
   "cell_type": "raw",
   "metadata": {
    "collapsed": false
   },
   "source": [
    "The initial check is the head request, a fundamental job of the server is to respond to the request. Use the \"headers\" parameter for logging into the server. Disregard this parameter if the server lacks the login feature."
   ]
  },
  {
   "cell_type": "code",
   "execution_count": 3,
   "metadata": {
    "ExecuteTime": {
     "end_time": "2023-11-20T12:25:22.005030700Z",
     "start_time": "2023-11-20T12:25:19.959189200Z"
    },
    "collapsed": false
   },
   "outputs": [
    {
     "name": "stdout",
     "output_type": "stream",
     "text": [
      "<Response [200]>\n"
     ]
    }
   ],
   "source": [
    "headers={\"Authorization\": \"Basic Y2xpZW50MToxMjM=\"}\n",
    "q=requests.head('http://localhost:8080/',headers=headers)\n",
    "print(q)\n"
   ]
  },
  {
   "cell_type": "raw",
   "metadata": {
    "collapsed": false
   },
   "source": [
    "Test get request"
   ]
  },
  {
   "cell_type": "code",
   "execution_count": 4,
   "metadata": {
    "ExecuteTime": {
     "end_time": "2023-11-20T12:25:24.051724200Z",
     "start_time": "2023-11-20T12:25:22.005977700Z"
    },
    "collapsed": false
   },
   "outputs": [
    {
     "name": "stdout",
     "output_type": "stream",
     "text": [
      "<Response [200]>\n"
     ]
    }
   ],
   "source": [
    "headers={\"Authorization\": \"Basic Y2xpZW50MToxMjM=\"}\n",
    "q=requests.get('http://localhost:8080/',headers=headers)\n",
    "print(q)"
   ]
  },
  {
   "cell_type": "raw",
   "metadata": {
    "collapsed": false
   },
   "source": [
    "Test post request"
   ]
  },
  {
   "cell_type": "code",
   "execution_count": 5,
   "metadata": {
    "ExecuteTime": {
     "end_time": "2023-11-20T12:25:26.094435700Z",
     "start_time": "2023-11-20T12:25:24.052720800Z"
    },
    "collapsed": false
   },
   "outputs": [
    {
     "name": "stdout",
     "output_type": "stream",
     "text": [
      "<Response [405]>\n"
     ]
    }
   ],
   "source": [
    "headers={\"Authorization\": \"Basic Y2xpZW50MToxMjM=\"}\n",
    "q=requests.post('http://localhost:8080/',headers=headers)\n",
    "print(q)"
   ]
  },
  {
   "cell_type": "raw",
   "metadata": {
    "collapsed": false
   },
   "source": [
    "Next, we will provide test examples based on the chapters in the project documentation. Each test is accompanied by a output. We do not check exact string matches for your output, as long as you complete the corresponding task.\n",
    "\n"
   ]
  },
  {
   "cell_type": "code",
   "execution_count": 6,
   "metadata": {
    "ExecuteTime": {
     "end_time": "2023-11-20T12:25:26.125331900Z",
     "start_time": "2023-11-20T12:25:26.096429200Z"
    },
    "collapsed": false
   },
   "outputs": [
    {
     "name": "stdout",
     "output_type": "stream",
     "text": [
      "<Response [200]>\n",
      "<Response [200]>\n"
     ]
    }
   ],
   "source": [
    "#1.1\n",
    "headers={\"Authorization\": \"Basic Y2xpZW50MToxMjM=\"}\n",
    "session = requests.Session()\n",
    "session.headers.update({'Connection': 'keep-alive'})\n",
    "\n",
    "response1 = session.get('http://127.0.0.1:8080',headers=headers)\n",
    "response2 = session.get('http://127.0.0.1:8080',headers=headers)\n",
    "\n",
    "print(response1)\n",
    "print(response2)\n",
    "\n",
    "\n"
   ]
  },
  {
   "cell_type": "code",
   "execution_count": 7,
   "metadata": {
    "ExecuteTime": {
     "end_time": "2023-11-20T12:25:26.128321900Z",
     "start_time": "2023-11-20T12:25:26.120348800Z"
    },
    "collapsed": false
   },
   "outputs": [
    {
     "name": "stdout",
     "output_type": "stream",
     "text": [
      "<Response [200]>\n",
      "<Response [200]>\n"
     ]
    }
   ],
   "source": [
    "#1.2\n",
    "#1.1\n",
    "headers={\"Authorization\": \"Basic Y2xpZW50MToxMjM=\"}\n",
    "session1 = requests.Session()\n",
    "session1.headers.update({'Connection': 'keep-alive'})\n",
    "session2 = requests.Session()\n",
    "session2.headers.update({'Connection': 'keep-alive'})\n",
    "\n",
    "response1 = session1.get('http://127.0.0.1:8080',headers=headers)\n",
    "response2 = session2.get('http://127.0.0.1:8080',headers=headers)\n",
    "\n",
    "\n",
    "print(response1)\n",
    "print(response2)\n"
   ]
  },
  {
   "cell_type": "code",
   "execution_count": 9,
   "metadata": {
    "ExecuteTime": {
     "end_time": "2023-11-20T12:25:30.194185200Z",
     "start_time": "2023-11-20T12:25:26.126329100Z"
    },
    "collapsed": false
   },
   "outputs": [
    {
     "name": "stdout",
     "output_type": "stream",
     "text": [
      "<Response [200]>\n",
      "<Response [401]>\n"
     ]
    }
   ],
   "source": [
    "#1.3\n",
    "headers1={\"Authorization\": \"Basic Y2xpZW50MToxMjM=\"}\n",
    "headers2={}\n",
    "q=requests.head('http://localhost:8080/',headers=headers1)\n",
    "print(q)\n",
    "q=requests.head('http://localhost:8080/',headers=headers2)\n",
    "print(q)"
   ]
  },
  {
   "cell_type": "code",
   "execution_count": 10,
   "metadata": {
    "ExecuteTime": {
     "end_time": "2023-11-20T12:25:30.223088800Z",
     "start_time": "2023-11-20T12:25:30.194185200Z"
    },
    "collapsed": false
   },
   "outputs": [
    {
     "name": "stdout",
     "output_type": "stream",
     "text": [
      "<Response [200]>\n",
      "['client1/', '.DS_Store', 'a.py', 'client2/', 'client3/', 'a.txt', '12589/']\n"
     ]
    }
   ],
   "source": [
    "#2\n",
    "url1='http://127.0.0.1:8080/?SUSTech-HTTP=1'\n",
    "\n",
    "headers={\"Authorization\": \"Basic Y2xpZW50MToxMjM=\"}\n",
    "r=requests.get(url=url1, headers=headers)\n",
    "print(r)\n",
    "print(r.content.decode())\n",
    "\n",
    "\n"
   ]
  },
  {
   "cell_type": "code",
   "execution_count": 11,
   "metadata": {
    "ExecuteTime": {
     "end_time": "2023-11-20T12:25:30.227075200Z",
     "start_time": "2023-11-20T12:25:30.211128400Z"
    },
    "collapsed": false
   },
   "outputs": [
    {
     "name": "stdout",
     "output_type": "stream",
     "text": [
      "<!DOCTYPE html>\n",
      "<html>\n",
      "<head>\n",
      "  <title>File Manager</title>\n",
      "  <style>\n",
      "    body {\n",
      "      font-family: Arial, sans-serif;\n",
      "      margin: 20px;\n",
      "      background-color: #e8f4fd; /* Light blue background */\n",
      "    }\n",
      "\n",
      "    h1 {\n",
      "      font-size: 24px;\n",
      "      color: #333;\n",
      "      margin-bottom: 20px;\n",
      "    }\n",
      "\n",
      "    ul {\n",
      "      list-style-type: none;\n",
      "      padding: 0;\n",
      "    }\n",
      "\n",
      "    li {\n",
      "      margin-bottom: 10px;\n",
      "      background-color: #fcf8e3; /* Light yellow background */\n",
      "      border-radius: 4px;\n",
      "      padding: 10px;\n",
      "      box-shadow: 0 2px 4px rgba(0, 0, 0, 0.1);\n",
      "    }\n",
      "\n",
      "    a {\n",
      "      text-decoration: none;\n",
      "      color: #333;\n",
      "      transition: color 0.3s ease;\n",
      "    }\n",
      "\n",
      "    a:hover {\n",
      "      color: #1e90ff;\n",
      "    }\n",
      "\n",
      "    button {\n",
      "      background-color: #f7e8b0; /* Light yellow button background */\n",
      "      color: #333;\n",
      "      border: none;\n",
      "      padding: 8px 12px;\n",
      "      border-radius: 4px;\n",
      "      font-size: 14px;\n",
      "      cursor: pointer;\n",
      "      transition: background-color 0.3s ease;\n",
      "    }\n",
      "\n",
      "    button:hover {\n",
      "      background-color: #f2d680; /* Dark yellow button background */\n",
      "    }\n",
      "\n",
      "    .current-path {\n",
      "      font-size: 14px;\n",
      "      color: #666;\n",
      "      margin-bottom: 10px;\n",
      "    }\n",
      "\n",
      "    .button-container {\n",
      "      display: flex;\n",
      "      justify-content: flex-end;\n",
      "    }\n",
      "\n",
      "    .upload-button {\n",
      "      position: absolute;\n",
      "      top: 6%;\n",
      "      left: 68%; /* Adjusted position */\n",
      "      transform: translate(-50%, -50%);\n",
      "    }\n",
      "\n",
      "    .upload-button button {\n",
      "      background-color: #f9c4d2; /* Light pink button background */\n",
      "      color: #333;\n",
      "      padding: 10px 15px;\n",
      "      font-size: 14px;\n",
      "      border-radius: 4px;\n",
      "      border: none;\n",
      "      cursor: pointer;\n",
      "      transition: background-color 0.3s ease;\n",
      "    }\n",
      "\n",
      "    .upload-button button:hover {\n",
      "      background-color: #f79eb1; /* Dark pink button background */\n",
      "    }\n",
      "\n",
      "    .upload-button input[type=\"file\"] {\n",
      "      display: none;\n",
      "    }\n",
      "\n",
      "    .file-button {\n",
      "      background-color: #c6e5cc; /* Light green button background */\n",
      "      color: #333;\n",
      "      padding: 8px 12px;\n",
      "      border: none;\n",
      "      border-radius: 4px;\n",
      "      font-size: 14px;\n",
      "      cursor: pointer;\n",
      "      transition: background-color 0.3s ease;\n",
      "      margin-right: 5px;\n",
      "    }\n",
      "\n",
      "    .file-button:hover {\n",
      "      background-color: #a0d8a9; /* Dark green button background */\n",
      "    }\n",
      "  </style>\n",
      "</head>\n",
      "<body>\n",
      "  <div style=\"max-width: 600px; margin: 0 auto;\">\n",
      "    <h1>File Manager</h1>\n",
      "    <div class=\"current-path\">Current directory: <b></b></div>\n",
      "    <ul id=\"file-list\"></ul>\n",
      "  </div>\n",
      "\n",
      "  <div class=\"upload-button\">\n",
      "    <input type=\"file\" id=\"file-input\" />\n",
      "    <button onclick=\"handleUploadButtonClick()\">Upload</button>\n",
      "  </div>\n",
      "\n",
      "  <script>\n",
      "    // File data\n",
      "    var files = [\n",
      "      { name: 'Home', path: '/', isDirectory: true },\n",
      "      { name: 'Previous', path: '..', isDirectory: true },\n",
      "      { name: 'client1', path: 'client1', isDirectory: true },\n",
      "{ name: 'a.py', path: 'a.py', isDirectory: false },\n",
      "{ name: 'client2', path: 'client2', isDirectory: true },\n",
      "{ name: 'client3', path: 'client3', isDirectory: true },\n",
      "{ name: 'a.txt', path: 'a.txt', isDirectory: false },\n",
      "{ name: '12589', path: '12589', isDirectory: true },\n",
      "\n",
      "    ];\n",
      "\n",
      "    // Generate file list\n",
      "    var fileList = document.getElementById('file-list');\n",
      "\n",
      "    files.forEach(function(file) {\n",
      "      var listItem = document.createElement('li');\n",
      "      var link = document.createElement('a');\n",
      "      link.textContent = file.name;\n",
      "      listItem.appendChild(link);\n",
      "\n",
      "      var buttonContainer = document.createElement('div');\n",
      "      buttonContainer.className = 'button-container';\n",
      "\n",
      "      var downloadButton = document.createElement('button');\n",
      "      downloadButton.className = 'file-button';\n",
      "      if (file.isDirectory) {\n",
      "        downloadButton.textContent = 'Open';\n",
      "      } else {\n",
      "        downloadButton.textContent = 'Download';\n",
      "      }\n",
      "      downloadButton.addEventListener('click', function() {\n",
      "        if (file.isDirectory) {\n",
      "          var currentPath = window.location.pathname;\n",
      "          var newPath = currentPath + (currentPath.endsWith('/') ? '' : '/') + file.name;\n",
      "          \n",
      "          // 处理路径中的 \"..\"\n",
      "          var url = new URL(newPath, window.location.href);\n",
      "          var pathParts = url.pathname.split('/');\n",
      "          var newPathParts = [];\n",
      "          if (pathParts[pathParts.length - 1] === 'Home') {\n",
      "            newPathParts.push(''); \n",
      "          } else {\n",
      "            for (var i = 0; i < pathParts.length; i++) {\n",
      "              if (pathParts[i] === 'Previous') {\n",
      "                if (newPathParts.length > 1) {\n",
      "                  newPathParts.pop();\n",
      "                }\n",
      "              } else {\n",
      "                newPathParts.push(pathParts[i]); \n",
      "              }\n",
      "            }\n",
      "          }\n",
      "          url.pathname = newPathParts.join('/');\n",
      "          window.location.href = url.href;\n",
      "        } else {\n",
      "          var xhr = new XMLHttpRequest();\n",
      "          xhr.open('GET', 'http://' + window.location.host + '/' + file.path, true);\n",
      "          xhr.setRequestHeader('Cookie', document.cookie);\n",
      "          xhr.onreadystatechange = function() {\n",
      "            if (xhr.readyState === 4 && xhr.status === 200) {\n",
      "              var blob = new Blob([xhr.response]);\n",
      "              var link = document.createElement('a');\n",
      "              link.href = window.URL.createObjectURL(blob);\n",
      "              link.download = file.name;\n",
      "              link.click();\n",
      "            }\n",
      "          };\n",
      "          xhr.send();\n",
      "        }\n",
      "      });\n",
      "      buttonContainer.appendChild(downloadButton);\n",
      "\n",
      "      var deleteButton = document.createElement('button');\n",
      "      deleteButton.className = 'file-button';\n",
      "      deleteButton.textContent = 'Delete';\n",
      "      deleteButton.addEventListener('click', function() {\n",
      "        var xhr = new XMLHttpRequest();\n",
      "        xhr.open('POST', '/delete?path=' + file.path, true);\n",
      "        xhr.setRequestHeader('Cookie', document.cookie)\n",
      "        xhr.onreadystatechange = function() {\n",
      "          if (xhr.readyState === 4 && xhr.status === 200) {\n",
      "            alert('Deleted Successfully');\n",
      "            listItem.remove();\n",
      "          }\n",
      "        };\n",
      "        xhr.send();\n",
      "      });\n",
      "      buttonContainer.appendChild(deleteButton);\n",
      "\n",
      "      listItem.appendChild(buttonContainer);\n",
      "\n",
      "      fileList.appendChild(listItem);\n",
      "    });\n",
      "\n",
      "    // Handle upload button click event\n",
      "    function handleUploadButtonClick() {\n",
      "          var fileInput = document.getElementById('file-input');\n",
      "          fileInput.click();\n",
      "          fileInput.addEventListener('change', function() {\n",
      "            var formData = new FormData();\n",
      "            for(const file of fileInput.files) {\n",
      "              formData.append(file.name, file); // 将文件添加到FormData对象中，键名为'file'\n",
      "            }\n",
      "\n",
      "            fetch('/upload?path=' + window.location.pathname, {\n",
      "              method: 'POST',\n",
      "              body: formData,\n",
      "              credentials: 'include' // Include cookies in the request\n",
      "            })\n",
      "              .then(function(response) {\n",
      "                if (response.ok) {\n",
      "                  return response.text(); // 返回响应文本\n",
      "                } else {\n",
      "                  throw new Error('File upload failed'); // 抛出错误\n",
      "                }\n",
      "              })\n",
      "              .then(function(responseText) {\n",
      "                location.reload(); // 文件上传成功后刷新当前页面\n",
      "              })\n",
      "              .catch(function(error) {\n",
      "                console.error('Error:', error);\n",
      "              });\n",
      "          });\n",
      "        }\n",
      "    </script>\n",
      "    </body>\n",
      "    </html>\n",
      "  </script>\n",
      "</body>\n",
      "</html>\n"
     ]
    }
   ],
   "source": [
    "#2\n",
    "url2='http://127.0.0.1:8080/?SUSTech-HTTP=0'\n",
    "\n",
    "headers={\"Authorization\": \"Basic Y2xpZW50MToxMjM=\"}\n",
    "r=requests.get(url=url2, headers=headers)\n",
    "print(r.content.decode())"
   ]
  },
  {
   "cell_type": "code",
   "execution_count": 12,
   "metadata": {
    "ExecuteTime": {
     "end_time": "2023-11-20T12:25:30.242025200Z",
     "start_time": "2023-11-20T12:25:30.227075200Z"
    },
    "collapsed": false
   },
   "outputs": [
    {
     "name": "stdout",
     "output_type": "stream",
     "text": [
      "dashkdbsakdaskdhas\n"
     ]
    }
   ],
   "source": [
    "#2\n",
    "headers={\"Authorization\": \"Basic Y2xpZW50MToxMjM=\"}\n",
    "r=requests.get(url='http://127.0.0.1:8080/a.txt', headers=headers)\n",
    "print(r.content.decode())"
   ]
  },
  {
   "cell_type": "code",
   "execution_count": 33,
   "metadata": {
    "ExecuteTime": {
     "end_time": "2023-11-20T12:25:30.259965300Z",
     "start_time": "2023-11-20T12:25:30.243021900Z"
    },
    "collapsed": false
   },
   "outputs": [
    {
     "ename": "PermissionError",
     "evalue": "[Errno 1] Operation not permitted: 'tmp/a.txt'",
     "output_type": "error",
     "traceback": [
      "\u001b[0;31m---------------------------------------------------------------------------\u001b[0m",
      "\u001b[0;31mPermissionError\u001b[0m                           Traceback (most recent call last)",
      "Cell \u001b[0;32mIn[33], line 2\u001b[0m\n\u001b[1;32m      1\u001b[0m \u001b[38;5;66;03m#3.1\u001b[39;00m\n\u001b[0;32m----> 2\u001b[0m files \u001b[38;5;241m=\u001b[39m {\u001b[38;5;124m\"\u001b[39m\u001b[38;5;124mfirstFile\u001b[39m\u001b[38;5;124m\"\u001b[39m: \u001b[38;5;28;43mopen\u001b[39;49m\u001b[43m(\u001b[49m\u001b[38;5;124;43m'\u001b[39;49m\u001b[38;5;124;43mtmp/a.txt\u001b[39;49m\u001b[38;5;124;43m'\u001b[39;49m\u001b[43m,\u001b[49m\u001b[43m \u001b[49m\u001b[38;5;124;43m\"\u001b[39;49m\u001b[38;5;124;43mrb\u001b[39;49m\u001b[38;5;124;43m\"\u001b[39;49m\u001b[43m)\u001b[49m}\n\u001b[1;32m      5\u001b[0m data\u001b[38;5;241m=\u001b[39m{}\n\u001b[1;32m      6\u001b[0m headers\u001b[38;5;241m=\u001b[39m{\u001b[38;5;124m\"\u001b[39m\u001b[38;5;124mAuthorization\u001b[39m\u001b[38;5;124m\"\u001b[39m: \u001b[38;5;124m\"\u001b[39m\u001b[38;5;124mBasic Y2xpZW50MToxMjM=\u001b[39m\u001b[38;5;124m\"\u001b[39m}\n",
      "File \u001b[0;32m~/Library/Python/3.9/lib/python/site-packages/IPython/core/interactiveshell.py:286\u001b[0m, in \u001b[0;36m_modified_open\u001b[0;34m(file, *args, **kwargs)\u001b[0m\n\u001b[1;32m    279\u001b[0m \u001b[38;5;28;01mif\u001b[39;00m file \u001b[38;5;129;01min\u001b[39;00m {\u001b[38;5;241m0\u001b[39m, \u001b[38;5;241m1\u001b[39m, \u001b[38;5;241m2\u001b[39m}:\n\u001b[1;32m    280\u001b[0m     \u001b[38;5;28;01mraise\u001b[39;00m \u001b[38;5;167;01mValueError\u001b[39;00m(\n\u001b[1;32m    281\u001b[0m         \u001b[38;5;124mf\u001b[39m\u001b[38;5;124m\"\u001b[39m\u001b[38;5;124mIPython won\u001b[39m\u001b[38;5;124m'\u001b[39m\u001b[38;5;124mt let you open fd=\u001b[39m\u001b[38;5;132;01m{\u001b[39;00mfile\u001b[38;5;132;01m}\u001b[39;00m\u001b[38;5;124m by default \u001b[39m\u001b[38;5;124m\"\u001b[39m\n\u001b[1;32m    282\u001b[0m         \u001b[38;5;124m\"\u001b[39m\u001b[38;5;124mas it is likely to crash IPython. If you know what you are doing, \u001b[39m\u001b[38;5;124m\"\u001b[39m\n\u001b[1;32m    283\u001b[0m         \u001b[38;5;124m\"\u001b[39m\u001b[38;5;124myou can use builtins\u001b[39m\u001b[38;5;124m'\u001b[39m\u001b[38;5;124m open.\u001b[39m\u001b[38;5;124m\"\u001b[39m\n\u001b[1;32m    284\u001b[0m     )\n\u001b[0;32m--> 286\u001b[0m \u001b[38;5;28;01mreturn\u001b[39;00m \u001b[43mio_open\u001b[49m\u001b[43m(\u001b[49m\u001b[43mfile\u001b[49m\u001b[43m,\u001b[49m\u001b[43m \u001b[49m\u001b[38;5;241;43m*\u001b[39;49m\u001b[43margs\u001b[49m\u001b[43m,\u001b[49m\u001b[43m \u001b[49m\u001b[38;5;241;43m*\u001b[39;49m\u001b[38;5;241;43m*\u001b[39;49m\u001b[43mkwargs\u001b[49m\u001b[43m)\u001b[49m\n",
      "\u001b[0;31mPermissionError\u001b[0m: [Errno 1] Operation not permitted: 'tmp/a.txt'"
     ]
    }
   ],
   "source": [
    "#3.1\n",
    "files = {\"firstFile\": open('tmp/a.txt', \"rb\")}\n",
    "\n",
    "\n",
    "data={}\n",
    "headers={\"Authorization\": \"Basic Y2xpZW50MToxMjM=\"}\n",
    "r=requests.post(url='http://127.0.0.1:8080/upload?path=client1/',data=data,headers=headers, files=files)\n",
    "print(r)\n",
    "r=requests.post(url='http://127.0.0.1:8080/upload?path=client2/',data=data,headers=headers, files=files)\n",
    "print(r)"
   ]
  },
  {
   "cell_type": "code",
   "execution_count": 34,
   "metadata": {
    "ExecuteTime": {
     "end_time": "2023-11-20T12:25:30.271925300Z",
     "start_time": "2023-11-20T12:25:30.257971700Z"
    },
    "collapsed": false
   },
   "outputs": [
    {
     "name": "stdout",
     "output_type": "stream",
     "text": [
      "<Response [200]>\n"
     ]
    }
   ],
   "source": [
    "#3.2\n",
    "url='http://127.0.0.1:8080/delete?path=client1/a.py'\n",
    "\n",
    "headers={\"Authorization\": \"Basic Y2xpZW50MToxMjM=\"}\n",
    "r=requests.post(url=url, headers=headers)\n",
    "print(r)"
   ]
  },
  {
   "cell_type": "code",
   "execution_count": 35,
   "metadata": {
    "ExecuteTime": {
     "end_time": "2023-11-20T12:25:32.321265500Z",
     "start_time": "2023-11-20T12:25:30.273918600Z"
    },
    "collapsed": false
   },
   "outputs": [
    {
     "name": "stdout",
     "output_type": "stream",
     "text": [
      "45b9d05e-f237-40a9-881f-85d9c9b7dd9c\n",
      "<Response [200]>\n"
     ]
    }
   ],
   "source": [
    "#4\n",
    "url='http://127.0.0.1:8080/'\n",
    "\n",
    "headers={\"Authorization\": \"Basic Y2xpZW50MToxMjM=\"}\n",
    "r=requests.get(url=url, headers=headers)\n",
    "print(r.cookies.values()[0])\n",
    "headers={\"Cookie\":'session-id='+r.cookies.values()[0]}\n",
    "q=requests.get('http://localhost:8080/',headers=headers)\n",
    "print(q)\n",
    "# print(q.cookies)"
   ]
  },
  {
   "cell_type": "code",
   "execution_count": 36,
   "metadata": {
    "ExecuteTime": {
     "end_time": "2023-11-20T12:25:32.340164500Z",
     "start_time": "2023-11-20T12:25:32.323259700Z"
    },
    "collapsed": false
   },
   "outputs": [
    {
     "name": "stdout",
     "output_type": "stream",
     "text": [
      "<Response [200]>\n"
     ]
    }
   ],
   "source": [
    "#5\n",
    "headers={\"Authorization\": \"Basic Y2xpZW50MToxMjM=\"}\n",
    "r=requests.get(url='http://127.0.0.1:8080/client1/a.txt?chunked=1', headers=headers)\n",
    "print(r)"
   ]
  },
  {
   "cell_type": "code",
   "execution_count": 41,
   "metadata": {
    "ExecuteTime": {
     "end_time": "2023-11-20T12:25:32.352124400Z",
     "start_time": "2023-11-20T12:25:32.338171Z"
    },
    "collapsed": false
   },
   "outputs": [
    {
     "name": "stdout",
     "output_type": "stream",
     "text": [
      "--91c891e93edc4bcebbbc988a2f4d1e3f\n",
      "Content-Type: text/plain\n",
      "Content-Range: bytes 0-1/11\n",
      "\n",
      "sa\n",
      "--91c891e93edc4bcebbbc988a2f4d1e3f\n",
      "Content-Type: text/plain\n",
      "Content-Range: bytes 1-2/11\n",
      "\n",
      "ad\n",
      "--91c891e93edc4bcebbbc988a2f4d1e3f\n",
      "Content-Type: text/plain\n",
      "Content-Range: bytes 2-3/11\n",
      "\n",
      "df\n",
      "--91c891e93edc4bcebbbc988a2f4d1e3f--\n"
     ]
    }
   ],
   "source": [
    "#Breakpoint Transmission\n",
    "url='http://127.0.0.1:8080/client1/a.txt'\n",
    "\n",
    "data={}\n",
    "headers={\"Authorization\": \"Basic Y2xpZW50MToxMjM=\",\n",
    "         \"Range\": \"bytes=0-1,1-2,2-3\"}\n",
    "r=requests.get(url=url, data=data, headers=headers)\n",
    "print(r.content.decode())"
   ]
  }
 ],
 "metadata": {
  "kernelspec": {
   "display_name": "Python 3",
   "language": "python",
   "name": "python3"
  },
  "language_info": {
   "codemirror_mode": {
    "name": "ipython",
    "version": 3
   },
   "file_extension": ".py",
   "mimetype": "text/x-python",
   "name": "python",
   "nbconvert_exporter": "python",
   "pygments_lexer": "ipython3",
   "version": "3.9.6"
  }
 },
 "nbformat": 4,
 "nbformat_minor": 0
}
